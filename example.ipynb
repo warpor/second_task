{
 "cells": [
  {
   "cell_type": "code",
   "execution_count": 1,
   "id": "8f3ac832a816362",
   "metadata": {
    "ExecuteTime": {
     "end_time": "2024-07-25T17:22:02.124512511Z",
     "start_time": "2024-07-25T17:21:42.771268643Z"
    },
    "collapsed": false,
    "jupyter": {
     "outputs_hidden": false
    }
   },
   "outputs": [
    {
     "name": "stderr",
     "output_type": "stream",
     "text": [
      "24/07/25 22:21:45 WARN Utils: Your hostname, nikita-Aspire-A315-42 resolves to a loopback address: 127.0.1.1; using 192.168.50.148 instead (on interface wlp4s0)\n",
      "24/07/25 22:21:45 WARN Utils: Set SPARK_LOCAL_IP if you need to bind to another address\n",
      "Setting default log level to \"WARN\".\n",
      "To adjust logging level use sc.setLogLevel(newLevel). For SparkR, use setLogLevel(newLevel).\n",
      "24/07/25 22:21:46 WARN NativeCodeLoader: Unable to load native-hadoop library for your platform... using builtin-java classes where applicable\n"
     ]
    },
    {
     "name": "stdout",
     "output_type": "stream",
     "text": [
      "Продукты:\n"
     ]
    },
    {
     "name": "stderr",
     "output_type": "stream",
     "text": [
      "                                                                                \r"
     ]
    },
    {
     "name": "stdout",
     "output_type": "stream",
     "text": [
      "+---+-------+\n",
      "| id|product|\n",
      "+---+-------+\n",
      "|  1|   milk|\n",
      "|  2|   meat|\n",
      "|  3|  bread|\n",
      "+---+-------+\n",
      "\n",
      "Категории:\n",
      "+--------+---+\n",
      "|category| id|\n",
      "+--------+---+\n",
      "|     eat|  1|\n",
      "|   drink|  2|\n",
      "|  health|  3|\n",
      "+--------+---+\n",
      "\n",
      "Результат:\n"
     ]
    },
    {
     "name": "stderr",
     "output_type": "stream",
     "text": [
      "                                                                                \r"
     ]
    },
    {
     "name": "stdout",
     "output_type": "stream",
     "text": [
      "+-------+--------+\n",
      "|product|category|\n",
      "+-------+--------+\n",
      "|   milk|  health|\n",
      "|   milk|   drink|\n",
      "|   milk|     eat|\n",
      "|   meat|  health|\n",
      "|   meat|     eat|\n",
      "|  bread|    NULL|\n",
      "+-------+--------+\n"
     ]
    }
   ],
   "source": [
    "from main import show_df, create_spark_session\n",
    "\n",
    "spark_session = create_spark_session()\n",
    "\n",
    "show_df(spark_session)"
   ]
  },
  {
   "cell_type": "code",
   "execution_count": null,
   "id": "af73844864362fd1",
   "metadata": {
    "collapsed": false,
    "jupyter": {
     "outputs_hidden": false
    }
   },
   "outputs": [],
   "source": []
  }
 ],
 "metadata": {
  "kernelspec": {
   "display_name": "Python 3 (ipykernel)",
   "language": "python",
   "name": "python3"
  },
  "language_info": {
   "codemirror_mode": {
    "name": "ipython",
    "version": 3
   },
   "file_extension": ".py",
   "mimetype": "text/x-python",
   "name": "python",
   "nbconvert_exporter": "python",
   "pygments_lexer": "ipython3",
   "version": "3.10.12"
  }
 },
 "nbformat": 4,
 "nbformat_minor": 5
}
