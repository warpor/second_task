{
 "cells": [
  {
   "cell_type": "code",
   "outputs": [
    {
     "name": "stderr",
     "output_type": "stream",
     "text": [
      "24/07/25 22:08:25 WARN Utils: Your hostname, nikita-Aspire-A315-42 resolves to a loopback address: 127.0.1.1; using 192.168.50.148 instead (on interface wlp4s0)\n",
      "24/07/25 22:08:25 WARN Utils: Set SPARK_LOCAL_IP if you need to bind to another address\n",
      "Setting default log level to \"WARN\".\n",
      "To adjust logging level use sc.setLogLevel(newLevel). For SparkR, use setLogLevel(newLevel).\n",
      "24/07/25 22:08:25 WARN NativeCodeLoader: Unable to load native-hadoop library for your platform... using builtin-java classes where applicable\n"
     ]
    },
    {
     "name": "stdout",
     "output_type": "stream",
     "text": [
      "Продукты:\n"
     ]
    },
    {
     "name": "stderr",
     "output_type": "stream",
     "text": [
      "                                                                                \r"
     ]
    },
    {
     "name": "stdout",
     "output_type": "stream",
     "text": [
      "+---+-------+\n",
      "| id|product|\n",
      "+---+-------+\n",
      "|  1|   milk|\n",
      "|  2|   meat|\n",
      "|  3|  bread|\n",
      "+---+-------+\n",
      "\n",
      "Категории:\n",
      "+--------+---+\n",
      "|category| id|\n",
      "+--------+---+\n",
      "|     eat|  1|\n",
      "|   drink|  2|\n",
      "|  health|  3|\n",
      "+--------+---+\n",
      "\n",
      "Результат:\n"
     ]
    },
    {
     "name": "stderr",
     "output_type": "stream",
     "text": [
      "                                                                                \r"
     ]
    },
    {
     "name": "stdout",
     "output_type": "stream",
     "text": [
      "+-------+--------+\n",
      "|product|category|\n",
      "+-------+--------+\n",
      "|   milk|  health|\n",
      "|   milk|   drink|\n",
      "|   milk|     eat|\n",
      "|   meat|  health|\n",
      "|   meat|     eat|\n",
      "|  bread|    NULL|\n",
      "+-------+--------+\n"
     ]
    }
   ],
   "source": [
    "from main import show_df, create_spark_session\n",
    "\n",
    "spark_session = create_spark_session()\n",
    "\n",
    "show_df(spark_session)"
   ],
   "metadata": {
    "collapsed": false,
    "ExecuteTime": {
     "end_time": "2024-07-25T17:08:40.686458752Z",
     "start_time": "2024-07-25T17:08:22.219664274Z"
    }
   },
   "id": "7ede885047c1cbed",
   "execution_count": 1
  },
  {
   "cell_type": "code",
   "outputs": [],
   "source": [],
   "metadata": {
    "collapsed": false
   },
   "id": "af73844864362fd1"
  }
 ],
 "metadata": {
  "kernelspec": {
   "display_name": "Python 3",
   "language": "python",
   "name": "python3"
  },
  "language_info": {
   "codemirror_mode": {
    "name": "ipython",
    "version": 2
   },
   "file_extension": ".py",
   "mimetype": "text/x-python",
   "name": "python",
   "nbconvert_exporter": "python",
   "pygments_lexer": "ipython2",
   "version": "2.7.6"
  }
 },
 "nbformat": 4,
 "nbformat_minor": 5
}
