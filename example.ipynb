{
 "cells": [
  {
   "cell_type": "code",
   "outputs": [
    {
     "name": "stdout",
     "output_type": "stream",
     "text": [
      "Продукты:\n",
      "+---+-------+\n",
      "| id|product|\n",
      "+---+-------+\n",
      "|  1|   milk|\n",
      "|  2|   meat|\n",
      "|  3|  bread|\n",
      "+---+-------+\n",
      "\n",
      "Категории:\n",
      "+--------+---+\n",
      "|category| id|\n",
      "+--------+---+\n",
      "|     eat|  1|\n",
      "|   drink|  2|\n",
      "|  health|  3|\n",
      "+--------+---+\n",
      "\n",
      "Результат:\n"
     ]
    },
    {
     "name": "stderr",
     "output_type": "stream",
     "text": [
      "                                                                                \r"
     ]
    },
    {
     "name": "stdout",
     "output_type": "stream",
     "text": [
      "+-------+--------+\n",
      "|product|category|\n",
      "+-------+--------+\n",
      "|  bread|    NULL|\n",
      "|   milk|     eat|\n",
      "|   meat|     eat|\n",
      "|   milk|  health|\n",
      "|   meat|  health|\n",
      "|   milk|   drink|\n",
      "+-------+--------+\n"
     ]
    }
   ],
   "source": [
    "from main import show_df, create_spark_session\n",
    "\n",
    "spark_session = create_spark_session()\n",
    "\n",
    "show_df(spark_session)"
   ],
   "metadata": {
    "collapsed": false,
    "ExecuteTime": {
     "end_time": "2024-07-25T17:03:24.849935909Z",
     "start_time": "2024-07-25T17:03:20.413506231Z"
    }
   },
   "id": "26ee812728918bbd",
   "execution_count": 3
  },
  {
   "cell_type": "code",
   "outputs": [],
   "source": [],
   "metadata": {
    "collapsed": false
   },
   "id": "f6e1d7877c7a3e6a"
  }
 ],
 "metadata": {
  "kernelspec": {
   "display_name": "Python 3",
   "language": "python",
   "name": "python3"
  },
  "language_info": {
   "codemirror_mode": {
    "name": "ipython",
    "version": 2
   },
   "file_extension": ".py",
   "mimetype": "text/x-python",
   "name": "python",
   "nbconvert_exporter": "python",
   "pygments_lexer": "ipython2",
   "version": "2.7.6"
  }
 },
 "nbformat": 4,
 "nbformat_minor": 5
}
