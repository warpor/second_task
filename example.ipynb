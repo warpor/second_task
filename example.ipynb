{
 "cells": [
  {
   "cell_type": "code",
   "execution_count": 2,
   "id": "8f3ac832a816362",
   "metadata": {
    "collapsed": false,
    "ExecuteTime": {
     "end_time": "2024-07-25T17:38:00.169629507Z",
     "start_time": "2024-07-25T17:37:55.156645174Z"
    }
   },
   "outputs": [
    {
     "name": "stdout",
     "output_type": "stream",
     "text": [
      "Продукты:\n",
      "+---+-------+\n",
      "| id|product|\n",
      "+---+-------+\n",
      "|  1|   milk|\n",
      "|  2|   meat|\n",
      "|  3|  bread|\n",
      "+---+-------+\n",
      "\n",
      "Категории:\n",
      "+--------+---+\n",
      "|category| id|\n",
      "+--------+---+\n",
      "|     eat|  1|\n",
      "|   drink|  2|\n",
      "|  health|  3|\n",
      "+--------+---+\n",
      "\n",
      "Связи:\n",
      "+-----------+----------+\n",
      "|category_id|product_id|\n",
      "+-----------+----------+\n",
      "|          1|         1|\n",
      "|          2|         1|\n",
      "|          3|         1|\n",
      "|          1|         2|\n",
      "|          3|         2|\n",
      "+-----------+----------+\n",
      "\n",
      "Результат:\n"
     ]
    },
    {
     "name": "stderr",
     "output_type": "stream",
     "text": [
      "                                                                                \r"
     ]
    },
    {
     "name": "stdout",
     "output_type": "stream",
     "text": [
      "+-------+--------+\n",
      "|product|category|\n",
      "+-------+--------+\n",
      "|   milk|  health|\n",
      "|   milk|   drink|\n",
      "|   milk|     eat|\n",
      "|   meat|  health|\n",
      "|   meat|     eat|\n",
      "|  bread|    NULL|\n",
      "+-------+--------+\n"
     ]
    }
   ],
   "source": [
    "from main import show_df, create_spark_session\n",
    "\n",
    "spark_session = create_spark_session()\n",
    "\n",
    "show_df(spark_session)"
   ]
  },
  {
   "cell_type": "code",
   "execution_count": null,
   "id": "af73844864362fd1",
   "metadata": {
    "collapsed": false
   },
   "outputs": [],
   "source": []
  }
 ],
 "metadata": {
  "kernelspec": {
   "display_name": "Python 3 (ipykernel)",
   "language": "python",
   "name": "python3"
  },
  "language_info": {
   "codemirror_mode": {
    "name": "ipython",
    "version": 3
   },
   "file_extension": ".py",
   "mimetype": "text/x-python",
   "name": "python",
   "nbconvert_exporter": "python",
   "pygments_lexer": "ipython3",
   "version": "3.10.12"
  }
 },
 "nbformat": 4,
 "nbformat_minor": 5
}
